{
 "cells": [
  {
   "cell_type": "code",
   "execution_count": 1,
   "metadata": {},
   "outputs": [],
   "source": []
  },
  {
   "cell_type": "code",
   "execution_count": 2,
   "metadata": {},
   "outputs": [],
   "source": [
    "COLLECTION_REVIEW = 'amzn-reviews'\n",
    "COLLECTION_PRODUCT = 'amzn-products'\n",
    "CONFIG_REVIEW = 'C:\\\\Users\\\\M_M\\\\Desktop\\\\assignment2\\\\conf\\\\amzn-reviews'\n",
    "CONFIG_PRODUCT = 'C:\\\\Users\\\\M_M\\\\Desktop\\\\assignment2\\\\conf\\\\amzn-products'\n",
    "    \n",
    "create_collection(CONFIG_REVIEW, COLLECTION_REVIEW)\n",
    "create_collection(CONFIG_PRODUCT, COLLECTION_PRODUCT)"
   ]
  },
  {
   "cell_type": "code",
   "execution_count": 3,
   "metadata": {},
   "outputs": [],
   "source": [
    "def product_json(filename):\n",
    "    list_of_dictionaries = []\n",
    "    with open(filename, \"r\") as f:\n",
    "        data = f.readlines()\n",
    "        for line in data:\n",
    "            newLine = eval('(' + line + ')')\n",
    "            title = newLine.get('title')\n",
    "            if  title is not None and len(title) > 0:\n",
    "                product = {\n",
    "                    'productID': newLine.get('asin'),\n",
    "                    'description': newLine.get('description'),\n",
    "                    'productName': title,\n",
    "                    'price': newLine.get('price')\n",
    "                }\n",
    "                list_of_dictionaries.append(product)\n",
    "    return list_of_dictionaries\n",
    "\n",
    "def review_json(filename, products):\n",
    "    list_of_dictionaries = []\n",
    "    set_p = set()\n",
    "    for product in products:\n",
    "        set_p.add(product['productID'])\n",
    "    with open(filename, \"r\") as f:\n",
    "        data = f.readlines()\n",
    "        for line in data:\n",
    "            newLine = eval('(' + line + ')')\n",
    "            asin = newLine.get('asin')\n",
    "            if asin in set_p:\n",
    "                reviews = {\n",
    "                    'productID': asin,\n",
    "                    'reviewerName': newLine.get('reviewerName'),                      \n",
    "                    'reviewScore': int(newLine.get('overall')),  \n",
    "                    'reviewSummary': newLine.get('summary'),\n",
    "                    'reviewBody': newLine.get('reviewText')\n",
    "                }\n",
    "                list_of_dictionaries.append(reviews) \n",
    "    return list_of_dictionaries"
   ]
  },
  {
   "cell_type": "code",
   "execution_count": 4,
   "metadata": {},
   "outputs": [],
   "source": [
    "import pysolr\n",
    "import json\n",
    "import os \n",
    "\n",
    "solr_p = pysolr.Solr('http://localhost:8983/solr/amzn-products')\n",
    "solr_r = pysolr.Solr('http://localhost:8983/solr/amzn-reviews')\n",
    "def index_documents(product_filename, review_filename):\n",
    "    productList = product_json(product_filename)\n",
    "    reviewList = review_json(review_filename, productList)\n",
    "    docs_p = []\n",
    "    docs_r = []\n",
    "    for product in productList:\n",
    "        docs_p.append(json.loads(json.dumps(product)))\n",
    "    solr_p.add(docs_p, commit=True)  \n",
    "    for review in reviewList:\n",
    "        docs_r.append(json.loads(json.dumps(review)))      \n",
    "    solr_r.add(docs_r, commit=True)      "
   ]
  },
  {
   "cell_type": "code",
   "execution_count": 5,
   "metadata": {},
   "outputs": [],
   "source": []
  },
  {
   "cell_type": "markdown",
   "metadata": {},
   "source": [
    "#### Instruction:\n",
    "    for the solr: \n",
    "        we are using the solr-8.1.0\n",
    "    for the flask:\n",
    "        Go into the directory \"./assignment2/reviewsite\"\n",
    "        create venv and activate it: >py -3 -m venv venv\n",
    "        activate venv: ./reviewsite>venv\\Scripts\\activate\n",
    "        please install: \n",
    "        (venv)./reviewsite>pip install flask_wtf\n",
    "        (venv)./reviewsite>pip install requests\n",
    "        Then run:\n",
    "        (venv)./reviewsite>set FLASK_APP=__init__.py\n",
    "        (venv)./reviewsite>flask run"
   ]
  }
 ],
 "metadata": {
  "kernelspec": {
   "display_name": "Python 3",
   "language": "python",
   "name": "python3"
  },
  "language_info": {
   "codemirror_mode": {
    "name": "ipython",
    "version": 3
   },
   "file_extension": ".py",
   "mimetype": "text/x-python",
   "name": "python",
   "nbconvert_exporter": "python",
   "pygments_lexer": "ipython3",
   "version": "3.7.1"
  }
 },
 "nbformat": 4,
 "nbformat_minor": 2
}
